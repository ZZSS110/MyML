{
 "cells": [
  {
   "cell_type": "code",
   "execution_count": 1,
   "metadata": {},
   "outputs": [],
   "source": [
    "%matplotlib inline\n",
    "import matplotlib.pyplot as plt\n",
    "import torch\n",
    "from torchvision import transforms\n",
    "from torch.utils.data import Dataset, DataLoader\n",
    "from PIL import Image\n",
    "from torchvision import models\n",
    "from torch import nn\n",
    "import torch.utils.data as data\n",
    "import torchvision.transforms as transforms\n",
    "import os\n",
    "import csv\n",
    "from sklearn.preprocessing import LabelEncoder\n",
    "import time\n"
   ]
  },
  {
   "cell_type": "code",
   "execution_count": 2,
   "metadata": {},
   "outputs": [],
   "source": [
    "\n",
    "# 设置工作目录\n",
    "os.chdir(\"/home/zs/project/classify-leaves/\")\n",
    "\n",
    "encoder = LabelEncoder()\n",
    "\n",
    "class MyDataset(data.Dataset):\n",
    "\n",
    "    def __init__(self, csv_path, is_test=False):\n",
    "        self.is_test = is_test\n",
    "        self.filenames = []\n",
    "        self.labels = []\n",
    "        current_directory = os.getcwd()\n",
    "        with open(csv_path, 'r') as f:\n",
    "            reader = csv.reader(f)\n",
    "            for row in reader:\n",
    "                if row[0] == 'image':\n",
    "                    continue\n",
    "                elif is_test:\n",
    "                    self.filenames.append(os.path.join(current_directory, row[0]))\n",
    "                else:\n",
    "                    self.labels.append(row[1])\n",
    "                    self.filenames.append(os.path.join(current_directory, row[0]))\n",
    "            # 打印列表中元素不同的个数\n",
    "            print(len(set(self.filenames)))\n",
    "\n",
    "            # 使用LabelEncoder将字符串转换为数字\n",
    "            global encoder\n",
    "            if not is_test:\n",
    "                labels_encoded = encoder.fit(self.labels)\n",
    "                LabelEncoder()\n",
    "                labels_encoded = encoder.transform(self.labels)\n",
    "                # 然后将numpy数组转换为张量\n",
    "                self.labels = torch.tensor(labels_encoded)\n",
    "\n",
    "    def __getitem__(self, index ):\n",
    "        image = Image.open(self.filenames[index])\n",
    "        data = self.preprocess(image)\n",
    "        if self.is_test:\n",
    "            return data\n",
    "        else:\n",
    "            label = self.labels[index]\n",
    "            return data ,label\n",
    "\n",
    "    def __len__(self):\n",
    "        return len(self.filenames)\n",
    "\n",
    "    def preprocess(self, data):\n",
    "        transform_train_list = [\n",
    "            # transforms.Resize((self.opt.h, self.opt.w), interpolation=3),\n",
    "            # transforms.Pad(self.opt.pad, padding_mode='edge'),\n",
    "            # transforms.RandomCrop((self.opt.h, self.opt.w)),\n",
    "            # transforms.RandomHorizontalFlip(),\n",
    "            transforms.ToTensor(),\n",
    "            # transforms.Normalize([0.485, 0.456, 0.406], [0.229, 0.224, 0.225])\n",
    "        ]\n",
    "        return transforms.Compose(transform_train_list)(data)\n",
    "\n",
    "def togpu(x):\n",
    "    device = torch.device(\"cuda\" if torch.cuda.is_available() else \"cpu\")\n",
    "    return x.to(device)\n"
   ]
  },
  {
   "cell_type": "code",
   "execution_count": 3,
   "metadata": {},
   "outputs": [
    {
     "name": "stderr",
     "output_type": "stream",
     "text": [
      "/home/zs/.conda/envs/ml/lib/python3.12/site-packages/torchvision/models/_utils.py:208: UserWarning: The parameter 'pretrained' is deprecated since 0.13 and may be removed in the future, please use 'weights' instead.\n",
      "  warnings.warn(\n",
      "/home/zs/.conda/envs/ml/lib/python3.12/site-packages/torchvision/models/_utils.py:223: UserWarning: Arguments other than a weight enum or `None` for 'weights' are deprecated since 0.13 and may be removed in the future. The current behavior is equivalent to passing `weights=ResNet50_Weights.IMAGENET1K_V1`. You can also use `weights=ResNet50_Weights.DEFAULT` to get the most up-to-date weights.\n",
      "  warnings.warn(msg)\n"
     ]
    }
   ],
   "source": [
    "\n",
    "resnet50 = models.resnet50(pretrained=True)\n",
    "num_ftrs = resnet50.fc.in_features \n",
    "for param in resnet50.parameters():\n",
    "    param.requires_grad = True\n",
    " \n",
    "#保持in_features不变，修改out_features=10\n",
    "resnet50.fc = nn.Sequential(nn.Linear(num_ftrs,176),\n",
    "                            nn.LogSoftmax(dim=1))"
   ]
  },
  {
   "cell_type": "code",
   "execution_count": 4,
   "metadata": {},
   "outputs": [
    {
     "name": "stdout",
     "output_type": "stream",
     "text": [
      "18353\n",
      "8800\n"
     ]
    }
   ],
   "source": [
    "batch_size = 32  \n",
    "lr, num_epochs = 0.005,50\n",
    "\n",
    "train_dataset = MyDataset(\"train.csv\")\n",
    "train_loader = torch.utils.data.DataLoader(\n",
    "    train_dataset, batch_size=batch_size, shuffle=True, num_workers=4)\n",
    "\n",
    "test_dataset = MyDataset('test.csv', is_test=True)\n",
    "test_loader = torch.utils.data.DataLoader(\n",
    "    test_dataset, batch_size=1, shuffle=False, num_workers=4)\n"
   ]
  },
  {
   "cell_type": "code",
   "execution_count": 5,
   "metadata": {},
   "outputs": [],
   "source": [
    "def train(net):  # 定义训练函数，输入参数为网络模型\n",
    "    \n",
    "\n",
    "    train_loss = []  # 训练损失数组\n",
    "    acc = []  # 准确率数组\n",
    "    x = list(range(0, num_epochs))  # epoch array\n",
    "    # 作图，开启交互模式\n",
    "    plt.ion()\n",
    "    \n",
    "    if torch.cuda.device_count() > 1:\n",
    "        print(\"useing\", torch.cuda.device_count(), \"GPUs!\")\n",
    "        net = nn.DataParallel(net)\n",
    "\n",
    "    device = torch.device(\"cuda\" if torch.cuda.is_available() else \"cpu\")\n",
    "    net = net.to(device)\n",
    "\n",
    "    print(\"training on\", device)  # 打印正在使用的设备\n",
    "    \n",
    "\n",
    "    optimizer = torch.optim.SGD(\n",
    "        net.parameters(), lr=lr\n",
    "    )  # 使用SGD优化器，输入参数为网络模型的参数和学习率\n",
    "    loss = nn.CrossEntropyLoss()  # 使用交叉熵损失函数\n",
    "    for epoch in range(num_epochs):  # 对每一轮训练进行循环\n",
    "        train_l_sum, train_acc_sum, n, start = (\n",
    "            0.0,\n",
    "            0.0,\n",
    "            0,\n",
    "            time.time(),\n",
    "        )  # 初始化损失和准确率的累计值，以及计时器\n",
    "        for X, y in train_loader:  # 对训练数据进行循环\n",
    "            X, y = togpu(X), togpu(y)  # 将数据移动到GPU（如果可用）\n",
    "            y_hat = net(X)  # 使用网络模型对输入数据进行预测\n",
    "            l = loss(y_hat, y)  # 计算预测结果和真实标签之间的损失\n",
    "            optimizer.zero_grad()  # 清零优化器的梯度\n",
    "            l.backward()  # 对损失进行反向传播，计算梯度\n",
    "            optimizer.step()  # 使用优化器更新网络模型的参数\n",
    "            train_l_sum += l.cpu().item()  # 累加损失\n",
    "            train_acc_sum += (y_hat.argmax(dim=1) ==\n",
    "                              y).sum().cpu().item()  # 累加准确率\n",
    "            n += y.shape[0]  # 累加样本数量\n",
    "        \n",
    "        # 作图\n",
    "        train_loss.append(train_l_sum / n)  # 计算每轮训练的平均损失\n",
    "        acc.append(train_acc_sum / n)  # 计算每轮训练的平均准确率\n",
    "\n",
    "        ix = x[:epoch +1  ]\n",
    "        train_iy = train_loss\n",
    "        valid_iy = acc\n",
    "        plt.cla()\n",
    "        plt.title(\"loss\")\n",
    "        plt.plot(ix, train_iy, label='Train Loss', linewidth=2, linestyle='-', marker='o')\n",
    "        plt.plot(ix, valid_iy, label='Acc ', color=\"orange\", linewidth=2, linestyle='--', marker='s')\n",
    "        plt.xlabel(\"epoch\")\n",
    "        plt.ylabel(\"loss\")\n",
    "        plt.legend()\n",
    "        plt.pause(0.5)\n",
    "        \n",
    "            \n",
    "        print(\n",
    "            \"epoch %d, loss %.4f, train acc %.3f, time %.1f sec\"\n",
    "            % (epoch + 1, train_l_sum / n, train_acc_sum / n, time.time() - start)\n",
    "        )  # 打印每轮训练的损失、准确率和时间\n",
    "    plt.ioff()\n",
    "    plt.show()\n",
    "                 \n",
    "\n",
    "def save_model(net, path):\n",
    "    torch.save(net.state_dict(), path)\n",
    "    print(\"saved:\", path)\n",
    "\n",
    "def load_model(net, path):\n",
    "    device = torch.device(\"cuda\" if torch.cuda.is_available() else \"cpu\")\n",
    "    net.load_state_dict(torch.load(path, map_location=device))\n",
    "    return net\n",
    "\n",
    "# 加载预训练模型\n",
    "\n",
    "pretrained_path = \"/home/zs/project/classify-leaves/resnet50.pth\"\n",
    "if os.path.exists(pretrained_path):\n",
    "    net = load_model(resnet50, pretrained_path)\n",
    "    print(\"Loaded pretrained model\")\n"
   ]
  },
  {
   "cell_type": "code",
   "execution_count": 6,
   "metadata": {},
   "outputs": [
    {
     "name": "stdout",
     "output_type": "stream",
     "text": [
      "training on cuda\n"
     ]
    },
    {
     "data": {
      "image/png": "[encoded data removed]",
      "text/plain": [
       "<Figure size 640x480 with 1 Axes>"
      ]
     },
     "metadata": {},
     "output_type": "display_data"
    },
    {
     "name": "stdout",
     "output_type": "stream",
     "text": [
      "epoch 1, loss 0.1312, train acc 0.176, time 273.8 sec\n"
     ]
    },
    {
     "ename": "KeyboardInterrupt",
     "evalue": "",
     "output_type": "error",
     "traceback": [
      "\u001b[0;31m---------------------------------------------------------------------------\u001b[0m",
      "\u001b[0;31mKeyboardInterrupt\u001b[0m                         Traceback (most recent call last)",
      "Cell \u001b[0;32mIn[6], line 1\u001b[0m\n\u001b[0;32m----> 1\u001b[0m \u001b[43mtrain\u001b[49m\u001b[43m(\u001b[49m\u001b[43mresnet50\u001b[49m\u001b[43m)\u001b[49m\n",
      "Cell \u001b[0;32mIn[5], line 38\u001b[0m, in \u001b[0;36mtrain\u001b[0;34m(net)\u001b[0m\n\u001b[1;32m     36\u001b[0m l\u001b[38;5;241m.\u001b[39mbackward()  \u001b[38;5;66;03m# 对损失进行反向传播，计算梯度\u001b[39;00m\n\u001b[1;32m     37\u001b[0m optimizer\u001b[38;5;241m.\u001b[39mstep()  \u001b[38;5;66;03m# 使用优化器更新网络模型的参数\u001b[39;00m\n\u001b[0;32m---> 38\u001b[0m train_l_sum \u001b[38;5;241m+\u001b[39m\u001b[38;5;241m=\u001b[39m \u001b[43ml\u001b[49m\u001b[38;5;241;43m.\u001b[39;49m\u001b[43mcpu\u001b[49m\u001b[43m(\u001b[49m\u001b[43m)\u001b[49m\u001b[38;5;241m.\u001b[39mitem()  \u001b[38;5;66;03m# 累加损失\u001b[39;00m\n\u001b[1;32m     39\u001b[0m train_acc_sum \u001b[38;5;241m+\u001b[39m\u001b[38;5;241m=\u001b[39m (y_hat\u001b[38;5;241m.\u001b[39margmax(dim\u001b[38;5;241m=\u001b[39m\u001b[38;5;241m1\u001b[39m) \u001b[38;5;241m==\u001b[39m\n\u001b[1;32m     40\u001b[0m                   y)\u001b[38;5;241m.\u001b[39msum()\u001b[38;5;241m.\u001b[39mcpu()\u001b[38;5;241m.\u001b[39mitem()  \u001b[38;5;66;03m# 累加准确率\u001b[39;00m\n\u001b[1;32m     41\u001b[0m n \u001b[38;5;241m+\u001b[39m\u001b[38;5;241m=\u001b[39m y\u001b[38;5;241m.\u001b[39mshape[\u001b[38;5;241m0\u001b[39m]  \u001b[38;5;66;03m# 累加样本数量\u001b[39;00m\n",
      "\u001b[0;31mKeyboardInterrupt\u001b[0m: "
     ]
    }
   ],
   "source": [
    "train(resnet50)"
   ]
  },
  {
   "cell_type": "code",
   "execution_count": null,
   "metadata": {},
   "outputs": [],
   "source": []
  }
 ],
 "metadata": {
  "kernelspec": {
   "display_name": "ml",
   "language": "python",
   "name": "python3"
  },
  "language_info": {
   "codemirror_mode": {
    "name": "ipython",
    "version": 3
   },
   "file_extension": ".py",
   "mimetype": "text/x-python",
   "name": "python",
   "nbconvert_exporter": "python",
   "pygments_lexer": "ipython3",
   "version": "3.12.1"
  }
 },
 "nbformat": 4,
 "nbformat_minor": 2
}
