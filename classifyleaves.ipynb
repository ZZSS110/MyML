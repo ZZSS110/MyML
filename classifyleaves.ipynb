{
 "cells": [
  {
   "cell_type": "code",
   "execution_count": null,
   "id": "809840bd",
   "metadata": {
    "execution": {
     "iopub.execute_input": "2024-03-01T13:33:01.803640Z",
     "iopub.status.busy": "2024-03-01T13:33:01.803293Z",
     "iopub.status.idle": "2024-03-01T13:33:10.433505Z",
     "shell.execute_reply": "2024-03-01T13:33:10.432539Z"
    },
    "papermill": {
     "duration": 8.638785,
     "end_time": "2024-03-01T13:33:10.436043",
     "exception": false,
     "start_time": "2024-03-01T13:33:01.797258",
     "status": "completed"
    },
    "scrolled": true,
    "tags": []
   },
   "outputs": [],
   "source": [
    "\n",
    "%matplotlib inline\n",
    "from torch.nn import functional as F\n",
    "from torch import nn\n",
    "import torch.utils.data as data\n",
    "import torchvision.transforms as transforms\n",
    "import os\n",
    "import torch\n",
    "import PIL.Image as Image\n",
    "import csv\n",
    "from sklearn.preprocessing import LabelEncoder\n",
    "import time\n",
    "import matplotlib.pyplot as plt\n",
    "import numpy as np\n",
    "\n",
    "# 设置工作目录\n",
    "os.chdir(\"/home/zs/project/classify-leaves/\")\n",
    "\n",
    "encoder = LabelEncoder()\n",
    "\n",
    "class MyDataset(data.Dataset):\n",
    "\n",
    "    def __init__(self, csv_path, is_test=False):\n",
    "        self.is_test = is_test\n",
    "        self.filenames = []\n",
    "        self.labels = []\n",
    "        current_directory = os.getcwd()\n",
    "        with open(csv_path, 'r') as f:\n",
    "            reader = csv.reader(f)\n",
    "            for row in reader:\n",
    "                if row[0] == 'image':\n",
    "                    continue\n",
    "                elif is_test:\n",
    "                    self.filenames.append(os.path.join(current_directory, row[0]))\n",
    "                else:\n",
    "                    self.labels.append(row[1])\n",
    "                    self.filenames.append(os.path.join(current_directory, row[0]))\n",
    "            # 打印列表中元素不同的个数\n",
    "            print(len(set(self.filenames)))\n",
    "\n",
    "            # 使用LabelEncoder将字符串转换为数字\n",
    "            global encoder\n",
    "            if not is_test:\n",
    "                labels_encoded = encoder.fit(self.labels)\n",
    "                LabelEncoder()\n",
    "                labels_encoded = encoder.transform(self.labels)\n",
    "                # 然后将numpy数组转换为张量\n",
    "                self.labels = torch.tensor(labels_encoded)\n",
    "\n",
    "    def __getitem__(self, index ):\n",
    "        image = Image.open(self.filenames[index])\n",
    "        data = self.preprocess(image)\n",
    "        if self.is_test:\n",
    "            return data\n",
    "        else:\n",
    "            label = self.labels[index]\n",
    "            return data ,label\n",
    "\n",
    "    def __len__(self):\n",
    "        return len(self.filenames)\n",
    "\n",
    "    def preprocess(self, data):\n",
    "        transform_train_list = [\n",
    "            # transforms.Resize((self.opt.h, self.opt.w), interpolation=3),\n",
    "            # transforms.Pad(self.opt.pad, padding_mode='edge'),\n",
    "            # transforms.RandomCrop((self.opt.h, self.opt.w)),\n",
    "            # transforms.RandomHorizontalFlip(),\n",
    "            transforms.ToTensor(),\n",
    "            # transforms.Normalize([0.485, 0.456, 0.406], [0.229, 0.224, 0.225])\n",
    "        ]\n",
    "        return transforms.Compose(transform_train_list)(data)\n",
    "\n"
   ]
  },
  {
   "cell_type": "code",
   "execution_count": null,
   "id": "dd204fa4",
   "metadata": {
    "execution": {
     "iopub.execute_input": "2024-03-01T13:33:10.445666Z",
     "iopub.status.busy": "2024-03-01T13:33:10.445266Z",
     "iopub.status.idle": "2024-03-01T13:33:10.629920Z",
     "shell.execute_reply": "2024-03-01T13:33:10.628933Z"
    },
    "papermill": {
     "duration": 0.191924,
     "end_time": "2024-03-01T13:33:10.632275",
     "exception": false,
     "start_time": "2024-03-01T13:33:10.440351",
     "status": "completed"
    },
    "tags": []
   },
   "outputs": [],
   "source": [
    "\n",
    "class Residual(nn.Module):\n",
    "    def __init__(self, input_channels, num_channels, use_1x1conv=False, strides=1):\n",
    "        super().__init__()\n",
    "        self.conv1 = nn.Conv2d(\n",
    "            input_channels, num_channels, kernel_size=3, padding=1, stride=strides\n",
    "        )\n",
    "        self.conv2 = nn.Conv2d(num_channels, num_channels,\n",
    "                               kernel_size=3, padding=1)\n",
    "        if use_1x1conv:\n",
    "            self.conv3 = nn.Conv2d(\n",
    "                input_channels, num_channels, kernel_size=1, stride=strides\n",
    "            )\n",
    "        else:\n",
    "            self.conv3 = None\n",
    "        self.bn1 = nn.BatchNorm2d(num_channels)\n",
    "        self.bn2 = nn.BatchNorm2d(num_channels)\n",
    "\n",
    "    def forward(self, X):\n",
    "        Y = F.relu(self.bn1(self.conv1(X)))\n",
    "        Y = self.bn2(self.conv2(Y))\n",
    "        if self.conv3:\n",
    "            X = self.conv3(X)\n",
    "        Y += X\n",
    "        return F.relu(Y)\n",
    "\n",
    "\n",
    "b1 = nn.Sequential(\n",
    "    nn.Conv2d(3, 64, kernel_size=7, stride=2, padding=3),\n",
    "    nn.BatchNorm2d(64),\n",
    "    nn.ReLU(),\n",
    "    nn.MaxPool2d(kernel_size=3, stride=2, padding=1),\n",
    ")\n",
    "\n",
    "\n",
    "def resnet_block(input_channels, num_channels, num_residuals, first_block=False):\n",
    "    blk = []\n",
    "    for i in range(num_residuals):\n",
    "        if i == 0 and not first_block:\n",
    "            blk.append(\n",
    "                Residual(input_channels, num_channels,\n",
    "                         use_1x1conv=True, strides=2)\n",
    "            )\n",
    "        else:\n",
    "            blk.append(Residual(num_channels, num_channels))\n",
    "    return blk\n",
    "\n",
    "\n",
    "b2 = nn.Sequential(*resnet_block(64, 64, 2, first_block=True))\n",
    "b3 = nn.Sequential(*resnet_block(64, 128, 2))\n",
    "b4 = nn.Sequential(*resnet_block(128, 256, 2))\n",
    "b5 = nn.Sequential(*resnet_block(256, 512, 2))\n",
    "\n",
    "\n",
    "net = nn.Sequential(\n",
    "    b1, b2, b3, b4, b5, nn.AdaptiveAvgPool2d(\n",
    "        (1, 1)), nn.Flatten(), nn.Linear(512, 176)\n",
    ")\n",
    "\n",
    "\n",
    "def togpu(x):\n",
    "    device = torch.device(\"cuda\" if torch.cuda.is_available() else \"cpu\")\n",
    "    return x.to(device)\n"
   ]
  },
  {
   "cell_type": "code",
   "execution_count": null,
   "id": "4ca959c2",
   "metadata": {
    "execution": {
     "iopub.execute_input": "2024-03-01T13:33:10.641895Z",
     "iopub.status.busy": "2024-03-01T13:33:10.641187Z",
     "iopub.status.idle": "2024-03-01T13:33:10.645301Z",
     "shell.execute_reply": "2024-03-01T13:33:10.644425Z"
    },
    "papermill": {
     "duration": 0.010929,
     "end_time": "2024-03-01T13:33:10.647257",
     "exception": false,
     "start_time": "2024-03-01T13:33:10.636328",
     "status": "completed"
    },
    "tags": []
   },
   "outputs": [],
   "source": [
    "batch_size = 64  # 设置批量大小为128\n",
    "lr, num_epochs = 0.005,50"
   ]
  },
  {
   "cell_type": "code",
   "execution_count": null,
   "id": "bdd67644",
   "metadata": {
    "execution": {
     "iopub.execute_input": "2024-03-01T13:33:10.656091Z",
     "iopub.status.busy": "2024-03-01T13:33:10.655536Z",
     "iopub.status.idle": "2024-03-01T13:33:10.768707Z",
     "shell.execute_reply": "2024-03-01T13:33:10.767788Z"
    },
    "papermill": {
     "duration": 0.119837,
     "end_time": "2024-03-01T13:33:10.770891",
     "exception": false,
     "start_time": "2024-03-01T13:33:10.651054",
     "status": "completed"
    },
    "tags": []
   },
   "outputs": [],
   "source": [
    "train_dataset = MyDataset(\"train.csv\")\n",
    "train_loader = torch.utils.data.DataLoader(\n",
    "    train_dataset, batch_size=batch_size, shuffle=True, num_workers=4)\n"
   ]
  },
  {
   "cell_type": "code",
   "execution_count": null,
   "id": "3c576fa8",
   "metadata": {
    "execution": {
     "iopub.execute_input": "2024-03-01T13:33:10.780603Z",
     "iopub.status.busy": "2024-03-01T13:33:10.780311Z",
     "iopub.status.idle": "2024-03-01T13:33:10.816152Z",
     "shell.execute_reply": "2024-03-01T13:33:10.815051Z"
    },
    "papermill": {
     "duration": 0.043133,
     "end_time": "2024-03-01T13:33:10.818432",
     "exception": false,
     "start_time": "2024-03-01T13:33:10.775299",
     "status": "completed"
    },
    "tags": []
   },
   "outputs": [],
   "source": [
    "test_dataset = MyDataset('test.csv', is_test=True)\n",
    "test_loader = torch.utils.data.DataLoader(\n",
    "    test_dataset, batch_size=1, shuffle=False, num_workers=4)"
   ]
  },
  {
   "cell_type": "code",
   "execution_count": null,
   "id": "538464a8",
   "metadata": {
    "execution": {
     "iopub.execute_input": "2024-03-01T13:33:10.829032Z",
     "iopub.status.busy": "2024-03-01T13:33:10.828329Z",
     "iopub.status.idle": "2024-03-01T13:33:10.845448Z",
     "shell.execute_reply": "2024-03-01T13:33:10.844614Z"
    },
    "papermill": {
     "duration": 0.024262,
     "end_time": "2024-03-01T13:33:10.847348",
     "exception": false,
     "start_time": "2024-03-01T13:33:10.823086",
     "status": "completed"
    },
    "tags": []
   },
   "outputs": [],
   "source": [
    "def train(net):  # 定义训练函数，输入参数为网络模型\n",
    "    \n",
    "\n",
    "    train_loss = []  # 训练损失数组\n",
    "    acc = []  # 准确率数组\n",
    "    x = list(range(0, num_epochs))  # epoch array\n",
    "    # 作图，开启交互模式\n",
    "    plt.ion()\n",
    "    \n",
    "    if torch.cuda.device_count() > 1:\n",
    "        print(\"useing\", torch.cuda.device_count(), \"GPUs!\")\n",
    "        net = nn.DataParallel(net)\n",
    "\n",
    "    device = torch.device(\"cuda\" if torch.cuda.is_available() else \"cpu\")\n",
    "    net = net.to(device)\n",
    "\n",
    "    print(\"training on\", device)  # 打印正在使用的设备\n",
    "    \n",
    "\n",
    "    optimizer = torch.optim.SGD(\n",
    "        net.parameters(), lr=lr\n",
    "    )  # 使用SGD优化器，输入参数为网络模型的参数和学习率\n",
    "    loss = nn.CrossEntropyLoss()  # 使用交叉熵损失函数\n",
    "    for epoch in range(num_epochs):  # 对每一轮训练进行循环\n",
    "        train_l_sum, train_acc_sum, n, start = (\n",
    "            0.0,\n",
    "            0.0,\n",
    "            0,\n",
    "            time.time(),\n",
    "        )  # 初始化损失和准确率的累计值，以及计时器\n",
    "        for X, y in train_loader:  # 对训练数据进行循环\n",
    "            X, y = togpu(X), togpu(y)  # 将数据移动到GPU（如果可用）\n",
    "            y_hat = net(X)  # 使用网络模型对输入数据进行预测\n",
    "            l = loss(y_hat, y)  # 计算预测结果和真实标签之间的损失\n",
    "            optimizer.zero_grad()  # 清零优化器的梯度\n",
    "            l.backward()  # 对损失进行反向传播，计算梯度\n",
    "            optimizer.step()  # 使用优化器更新网络模型的参数\n",
    "            train_l_sum += l.cpu().item()  # 累加损失\n",
    "            train_acc_sum += (y_hat.argmax(dim=1) ==\n",
    "                              y).sum().cpu().item()  # 累加准确率\n",
    "            n += y.shape[0]  # 累加样本数量\n",
    "        \n",
    "        # 作图\n",
    "        train_loss.append(train_l_sum / n)  # 计算每轮训练的平均损失\n",
    "        acc.append(train_acc_sum / n)  # 计算每轮训练的平均准确率\n",
    "\n",
    "        ix = x[:epoch +1  ]\n",
    "        train_iy = train_loss\n",
    "        valid_iy = acc\n",
    "        plt.cla()\n",
    "        plt.title(\"loss\")\n",
    "        plt.plot(ix, train_iy, label='Train Loss', linewidth=2, linestyle='-', marker='o')\n",
    "        plt.plot(ix, valid_iy, label='Acc ', color=\"orange\", linewidth=2, linestyle='--', marker='s')\n",
    "        plt.xlabel(\"epoch\")\n",
    "        plt.ylabel(\"loss\")\n",
    "        plt.legend()\n",
    "        plt.pause(0.5)\n",
    "        \n",
    "            \n",
    "        print(\n",
    "            \"epoch %d, loss %.4f, train acc %.3f, time %.1f sec\"\n",
    "            % (epoch + 1, train_l_sum / n, train_acc_sum / n, time.time() - start)\n",
    "        )  # 打印每轮训练的损失、准确率和时间\n",
    "    plt.ioff()\n",
    "    plt.show()\n",
    "                 \n",
    "\n",
    "def save_model(net, path):\n",
    "    torch.save(net.state_dict(), path)\n",
    "    print(\"saved:\", path)\n",
    "\n",
    "def load_model(net, path):\n",
    "    device = torch.device(\"cuda\" if torch.cuda.is_available() else \"cpu\")\n",
    "    net.load_state_dict(torch.load(path, map_location=device))\n",
    "    return net\n",
    "\n",
    "# 加载预训练模型\n",
    "\n",
    "pretrained_path = \"/home/zs/project/classify-leaves/resnet.pth\"\n",
    "if os.path.exists(pretrained_path):\n",
    "    net = load_model(net, pretrained_path)\n",
    "    print(\"Loaded pretrained model\")\n"
   ]
  },
  {
   "cell_type": "code",
   "execution_count": null,
   "id": "de923dfe",
   "metadata": {
    "execution": {
     "iopub.execute_input": "2024-03-01T13:33:10.856667Z",
     "iopub.status.busy": "2024-03-01T13:33:10.856331Z",
     "iopub.status.idle": "2024-03-01T14:07:02.826276Z",
     "shell.execute_reply": "2024-03-01T14:07:02.824986Z"
    },
    "papermill": {
     "duration": 2031.977367,
     "end_time": "2024-03-01T14:07:02.828651",
     "exception": false,
     "start_time": "2024-03-01T13:33:10.851284",
     "status": "completed"
    },
    "tags": []
   },
   "outputs": [],
   "source": [
    "# path = \"./\"\n",
    "# load_net(path)\n",
    "train(net)  # 调用训练函数，开始训练\n",
    "save_model(net, \"/kaggle/working/resnet_two_gpus.pth\")"
   ]
  },
  {
   "cell_type": "code",
   "execution_count": null,
   "id": "d594caef",
   "metadata": {
    "execution": {
     "iopub.execute_input": "2024-03-01T14:07:02.893546Z",
     "iopub.status.busy": "2024-03-01T14:07:02.893210Z",
     "iopub.status.idle": "2024-03-01T14:07:03.347086Z",
     "shell.execute_reply": "2024-03-01T14:07:03.345910Z"
    },
    "papermill": {
     "duration": 0.48847,
     "end_time": "2024-03-01T14:07:03.349359",
     "exception": false,
     "start_time": "2024-03-01T14:07:02.860889",
     "status": "completed"
    },
    "tags": []
   },
   "outputs": [],
   "source": [
    "# del a\n",
    "torch.cuda.empty_cache()\n",
    "img = train_dataset.__getitem__(7)[0]\n",
    "a = img.unsqueeze(0)\n",
    "# 显示图片\n",
    "img = np.transpose(img, (1, 2, 0))\n",
    "plt.imshow(np.array(img))\n",
    "plt.show()\n",
    "\n",
    "a = togpu(a)\n",
    "net = togpu(net)\n",
    "net.eval()\n",
    "\n",
    "output = net(a)\n",
    "predictions = output.argmax(dim=1)\n",
    "print(predictions)\n",
    "predictions = predictions.cpu().numpy()\n",
    "predictions = encoder.inverse_transform(predictions)\n",
    "print(predictions)"
   ]
  },
  {
   "cell_type": "code",
   "execution_count": 12,
   "id": "7faf79eb",
   "metadata": {
    "execution": {
     "iopub.execute_input": "2024-03-01T14:07:03.415043Z",
     "iopub.status.busy": "2024-03-01T14:07:03.414697Z",
     "iopub.status.idle": "2024-03-01T14:07:03.633702Z",
     "shell.execute_reply": "2024-03-01T14:07:03.632593Z"
    },
    "papermill": {
     "duration": 0.253612,
     "end_time": "2024-03-01T14:07:03.635651",
     "exception": false,
     "start_time": "2024-03-01T14:07:03.382039",
     "status": "completed"
    },
    "tags": []
   },
   "outputs": [
    {
     "data": {
      "image/png": "[encoded data removed]",
      "text/plain": [
       "<Figure size 640x480 with 1 Axes>"
      ]
     },
     "metadata": {},
     "output_type": "display_data"
    },
    {
     "name": "stdout",
     "output_type": "stream",
     "text": [
      "tensor([120], device='cuda:0')\n",
      "['platanus_acerifolia']\n"
     ]
    }
   ],
   "source": [
    "img = test_dataset.__getitem__(2)\n",
    "a = img.unsqueeze(0)\n",
    "# 显示图片\n",
    "img = np.transpose(img, (1, 2, 0))\n",
    "plt.imshow(np.array(img))\n",
    "plt.show()\n",
    "\n",
    "a = togpu(a)\n",
    "net = togpu(net)\n",
    "net.eval()\n",
    "output = net(a)\n",
    "predictions = output.argmax(dim=1)\n",
    "print(predictions)\n",
    "predictions = predictions.cpu().numpy()\n",
    "predictions = encoder.inverse_transform(predictions)\n",
    "print(predictions)"
   ]
  },
  {
   "cell_type": "code",
   "execution_count": 13,
   "id": "d3a90a42",
   "metadata": {
    "execution": {
     "iopub.execute_input": "2024-03-01T14:07:03.700591Z",
     "iopub.status.busy": "2024-03-01T14:07:03.700289Z",
     "iopub.status.idle": "2024-03-01T14:09:16.517347Z",
     "shell.execute_reply": "2024-03-01T14:09:16.516352Z"
    },
    "papermill": {
     "duration": 132.886646,
     "end_time": "2024-03-01T14:09:16.554466",
     "exception": false,
     "start_time": "2024-03-01T14:07:03.667820",
     "status": "completed"
    },
    "tags": []
   },
   "outputs": [
    {
     "ename": "KeyboardInterrupt",
     "evalue": "",
     "output_type": "error",
     "traceback": [
      "\u001b[0;31m---------------------------------------------------------------------------\u001b[0m",
      "\u001b[0;31mKeyboardInterrupt\u001b[0m                         Traceback (most recent call last)",
      "Cell \u001b[0;32mIn[13], line 11\u001b[0m\n\u001b[1;32m      9\u001b[0m net \u001b[38;5;241m=\u001b[39m togpu(net)\n\u001b[1;32m     10\u001b[0m net\u001b[38;5;241m.\u001b[39meval()\n\u001b[0;32m---> 11\u001b[0m output \u001b[38;5;241m=\u001b[39m \u001b[43mnet\u001b[49m\u001b[43m(\u001b[49m\u001b[43mtest_data\u001b[49m\u001b[43m)\u001b[49m\n\u001b[1;32m     12\u001b[0m predictions \u001b[38;5;241m=\u001b[39m output\u001b[38;5;241m.\u001b[39margmax(dim\u001b[38;5;241m=\u001b[39m\u001b[38;5;241m1\u001b[39m)\n\u001b[1;32m     13\u001b[0m test_labels\u001b[38;5;241m.\u001b[39mappend(predictions\u001b[38;5;241m.\u001b[39mcpu()\u001b[38;5;241m.\u001b[39mnumpy())\n",
      "File \u001b[0;32m~/.conda/envs/ml/lib/python3.12/site-packages/torch/nn/modules/module.py:1511\u001b[0m, in \u001b[0;36mModule._wrapped_call_impl\u001b[0;34m(self, *args, **kwargs)\u001b[0m\n\u001b[1;32m   1509\u001b[0m     \u001b[38;5;28;01mreturn\u001b[39;00m \u001b[38;5;28mself\u001b[39m\u001b[38;5;241m.\u001b[39m_compiled_call_impl(\u001b[38;5;241m*\u001b[39margs, \u001b[38;5;241m*\u001b[39m\u001b[38;5;241m*\u001b[39mkwargs)  \u001b[38;5;66;03m# type: ignore[misc]\u001b[39;00m\n\u001b[1;32m   1510\u001b[0m \u001b[38;5;28;01melse\u001b[39;00m:\n\u001b[0;32m-> 1511\u001b[0m     \u001b[38;5;28;01mreturn\u001b[39;00m \u001b[38;5;28;43mself\u001b[39;49m\u001b[38;5;241;43m.\u001b[39;49m\u001b[43m_call_impl\u001b[49m\u001b[43m(\u001b[49m\u001b[38;5;241;43m*\u001b[39;49m\u001b[43margs\u001b[49m\u001b[43m,\u001b[49m\u001b[43m \u001b[49m\u001b[38;5;241;43m*\u001b[39;49m\u001b[38;5;241;43m*\u001b[39;49m\u001b[43mkwargs\u001b[49m\u001b[43m)\u001b[49m\n",
      "File \u001b[0;32m~/.conda/envs/ml/lib/python3.12/site-packages/torch/nn/modules/module.py:1520\u001b[0m, in \u001b[0;36mModule._call_impl\u001b[0;34m(self, *args, **kwargs)\u001b[0m\n\u001b[1;32m   1515\u001b[0m \u001b[38;5;66;03m# If we don't have any hooks, we want to skip the rest of the logic in\u001b[39;00m\n\u001b[1;32m   1516\u001b[0m \u001b[38;5;66;03m# this function, and just call forward.\u001b[39;00m\n\u001b[1;32m   1517\u001b[0m \u001b[38;5;28;01mif\u001b[39;00m \u001b[38;5;129;01mnot\u001b[39;00m (\u001b[38;5;28mself\u001b[39m\u001b[38;5;241m.\u001b[39m_backward_hooks \u001b[38;5;129;01mor\u001b[39;00m \u001b[38;5;28mself\u001b[39m\u001b[38;5;241m.\u001b[39m_backward_pre_hooks \u001b[38;5;129;01mor\u001b[39;00m \u001b[38;5;28mself\u001b[39m\u001b[38;5;241m.\u001b[39m_forward_hooks \u001b[38;5;129;01mor\u001b[39;00m \u001b[38;5;28mself\u001b[39m\u001b[38;5;241m.\u001b[39m_forward_pre_hooks\n\u001b[1;32m   1518\u001b[0m         \u001b[38;5;129;01mor\u001b[39;00m _global_backward_pre_hooks \u001b[38;5;129;01mor\u001b[39;00m _global_backward_hooks\n\u001b[1;32m   1519\u001b[0m         \u001b[38;5;129;01mor\u001b[39;00m _global_forward_hooks \u001b[38;5;129;01mor\u001b[39;00m _global_forward_pre_hooks):\n\u001b[0;32m-> 1520\u001b[0m     \u001b[38;5;28;01mreturn\u001b[39;00m \u001b[43mforward_call\u001b[49m\u001b[43m(\u001b[49m\u001b[38;5;241;43m*\u001b[39;49m\u001b[43margs\u001b[49m\u001b[43m,\u001b[49m\u001b[43m \u001b[49m\u001b[38;5;241;43m*\u001b[39;49m\u001b[38;5;241;43m*\u001b[39;49m\u001b[43mkwargs\u001b[49m\u001b[43m)\u001b[49m\n\u001b[1;32m   1522\u001b[0m \u001b[38;5;28;01mtry\u001b[39;00m:\n\u001b[1;32m   1523\u001b[0m     result \u001b[38;5;241m=\u001b[39m \u001b[38;5;28;01mNone\u001b[39;00m\n",
      "File \u001b[0;32m~/.conda/envs/ml/lib/python3.12/site-packages/torch/nn/modules/container.py:217\u001b[0m, in \u001b[0;36mSequential.forward\u001b[0;34m(self, input)\u001b[0m\n\u001b[1;32m    215\u001b[0m \u001b[38;5;28;01mdef\u001b[39;00m \u001b[38;5;21mforward\u001b[39m(\u001b[38;5;28mself\u001b[39m, \u001b[38;5;28minput\u001b[39m):\n\u001b[1;32m    216\u001b[0m     \u001b[38;5;28;01mfor\u001b[39;00m module \u001b[38;5;129;01min\u001b[39;00m \u001b[38;5;28mself\u001b[39m:\n\u001b[0;32m--> 217\u001b[0m         \u001b[38;5;28minput\u001b[39m \u001b[38;5;241m=\u001b[39m \u001b[43mmodule\u001b[49m\u001b[43m(\u001b[49m\u001b[38;5;28;43minput\u001b[39;49m\u001b[43m)\u001b[49m\n\u001b[1;32m    218\u001b[0m     \u001b[38;5;28;01mreturn\u001b[39;00m \u001b[38;5;28minput\u001b[39m\n",
      "File \u001b[0;32m~/.conda/envs/ml/lib/python3.12/site-packages/torch/nn/modules/module.py:1511\u001b[0m, in \u001b[0;36mModule._wrapped_call_impl\u001b[0;34m(self, *args, **kwargs)\u001b[0m\n\u001b[1;32m   1509\u001b[0m     \u001b[38;5;28;01mreturn\u001b[39;00m \u001b[38;5;28mself\u001b[39m\u001b[38;5;241m.\u001b[39m_compiled_call_impl(\u001b[38;5;241m*\u001b[39margs, \u001b[38;5;241m*\u001b[39m\u001b[38;5;241m*\u001b[39mkwargs)  \u001b[38;5;66;03m# type: ignore[misc]\u001b[39;00m\n\u001b[1;32m   1510\u001b[0m \u001b[38;5;28;01melse\u001b[39;00m:\n\u001b[0;32m-> 1511\u001b[0m     \u001b[38;5;28;01mreturn\u001b[39;00m \u001b[38;5;28;43mself\u001b[39;49m\u001b[38;5;241;43m.\u001b[39;49m\u001b[43m_call_impl\u001b[49m\u001b[43m(\u001b[49m\u001b[38;5;241;43m*\u001b[39;49m\u001b[43margs\u001b[49m\u001b[43m,\u001b[49m\u001b[43m \u001b[49m\u001b[38;5;241;43m*\u001b[39;49m\u001b[38;5;241;43m*\u001b[39;49m\u001b[43mkwargs\u001b[49m\u001b[43m)\u001b[49m\n",
      "File \u001b[0;32m~/.conda/envs/ml/lib/python3.12/site-packages/torch/nn/modules/module.py:1520\u001b[0m, in \u001b[0;36mModule._call_impl\u001b[0;34m(self, *args, **kwargs)\u001b[0m\n\u001b[1;32m   1515\u001b[0m \u001b[38;5;66;03m# If we don't have any hooks, we want to skip the rest of the logic in\u001b[39;00m\n\u001b[1;32m   1516\u001b[0m \u001b[38;5;66;03m# this function, and just call forward.\u001b[39;00m\n\u001b[1;32m   1517\u001b[0m \u001b[38;5;28;01mif\u001b[39;00m \u001b[38;5;129;01mnot\u001b[39;00m (\u001b[38;5;28mself\u001b[39m\u001b[38;5;241m.\u001b[39m_backward_hooks \u001b[38;5;129;01mor\u001b[39;00m \u001b[38;5;28mself\u001b[39m\u001b[38;5;241m.\u001b[39m_backward_pre_hooks \u001b[38;5;129;01mor\u001b[39;00m \u001b[38;5;28mself\u001b[39m\u001b[38;5;241m.\u001b[39m_forward_hooks \u001b[38;5;129;01mor\u001b[39;00m \u001b[38;5;28mself\u001b[39m\u001b[38;5;241m.\u001b[39m_forward_pre_hooks\n\u001b[1;32m   1518\u001b[0m         \u001b[38;5;129;01mor\u001b[39;00m _global_backward_pre_hooks \u001b[38;5;129;01mor\u001b[39;00m _global_backward_hooks\n\u001b[1;32m   1519\u001b[0m         \u001b[38;5;129;01mor\u001b[39;00m _global_forward_hooks \u001b[38;5;129;01mor\u001b[39;00m _global_forward_pre_hooks):\n\u001b[0;32m-> 1520\u001b[0m     \u001b[38;5;28;01mreturn\u001b[39;00m \u001b[43mforward_call\u001b[49m\u001b[43m(\u001b[49m\u001b[38;5;241;43m*\u001b[39;49m\u001b[43margs\u001b[49m\u001b[43m,\u001b[49m\u001b[43m \u001b[49m\u001b[38;5;241;43m*\u001b[39;49m\u001b[38;5;241;43m*\u001b[39;49m\u001b[43mkwargs\u001b[49m\u001b[43m)\u001b[49m\n\u001b[1;32m   1522\u001b[0m \u001b[38;5;28;01mtry\u001b[39;00m:\n\u001b[1;32m   1523\u001b[0m     result \u001b[38;5;241m=\u001b[39m \u001b[38;5;28;01mNone\u001b[39;00m\n",
      "File \u001b[0;32m~/.conda/envs/ml/lib/python3.12/site-packages/torch/nn/modules/container.py:217\u001b[0m, in \u001b[0;36mSequential.forward\u001b[0;34m(self, input)\u001b[0m\n\u001b[1;32m    215\u001b[0m \u001b[38;5;28;01mdef\u001b[39;00m \u001b[38;5;21mforward\u001b[39m(\u001b[38;5;28mself\u001b[39m, \u001b[38;5;28minput\u001b[39m):\n\u001b[1;32m    216\u001b[0m     \u001b[38;5;28;01mfor\u001b[39;00m module \u001b[38;5;129;01min\u001b[39;00m \u001b[38;5;28mself\u001b[39m:\n\u001b[0;32m--> 217\u001b[0m         \u001b[38;5;28minput\u001b[39m \u001b[38;5;241m=\u001b[39m \u001b[43mmodule\u001b[49m\u001b[43m(\u001b[49m\u001b[38;5;28;43minput\u001b[39;49m\u001b[43m)\u001b[49m\n\u001b[1;32m    218\u001b[0m     \u001b[38;5;28;01mreturn\u001b[39;00m \u001b[38;5;28minput\u001b[39m\n",
      "File \u001b[0;32m~/.conda/envs/ml/lib/python3.12/site-packages/torch/nn/modules/module.py:1511\u001b[0m, in \u001b[0;36mModule._wrapped_call_impl\u001b[0;34m(self, *args, **kwargs)\u001b[0m\n\u001b[1;32m   1509\u001b[0m     \u001b[38;5;28;01mreturn\u001b[39;00m \u001b[38;5;28mself\u001b[39m\u001b[38;5;241m.\u001b[39m_compiled_call_impl(\u001b[38;5;241m*\u001b[39margs, \u001b[38;5;241m*\u001b[39m\u001b[38;5;241m*\u001b[39mkwargs)  \u001b[38;5;66;03m# type: ignore[misc]\u001b[39;00m\n\u001b[1;32m   1510\u001b[0m \u001b[38;5;28;01melse\u001b[39;00m:\n\u001b[0;32m-> 1511\u001b[0m     \u001b[38;5;28;01mreturn\u001b[39;00m \u001b[38;5;28;43mself\u001b[39;49m\u001b[38;5;241;43m.\u001b[39;49m\u001b[43m_call_impl\u001b[49m\u001b[43m(\u001b[49m\u001b[38;5;241;43m*\u001b[39;49m\u001b[43margs\u001b[49m\u001b[43m,\u001b[49m\u001b[43m \u001b[49m\u001b[38;5;241;43m*\u001b[39;49m\u001b[38;5;241;43m*\u001b[39;49m\u001b[43mkwargs\u001b[49m\u001b[43m)\u001b[49m\n",
      "File \u001b[0;32m~/.conda/envs/ml/lib/python3.12/site-packages/torch/nn/modules/module.py:1520\u001b[0m, in \u001b[0;36mModule._call_impl\u001b[0;34m(self, *args, **kwargs)\u001b[0m\n\u001b[1;32m   1515\u001b[0m \u001b[38;5;66;03m# If we don't have any hooks, we want to skip the rest of the logic in\u001b[39;00m\n\u001b[1;32m   1516\u001b[0m \u001b[38;5;66;03m# this function, and just call forward.\u001b[39;00m\n\u001b[1;32m   1517\u001b[0m \u001b[38;5;28;01mif\u001b[39;00m \u001b[38;5;129;01mnot\u001b[39;00m (\u001b[38;5;28mself\u001b[39m\u001b[38;5;241m.\u001b[39m_backward_hooks \u001b[38;5;129;01mor\u001b[39;00m \u001b[38;5;28mself\u001b[39m\u001b[38;5;241m.\u001b[39m_backward_pre_hooks \u001b[38;5;129;01mor\u001b[39;00m \u001b[38;5;28mself\u001b[39m\u001b[38;5;241m.\u001b[39m_forward_hooks \u001b[38;5;129;01mor\u001b[39;00m \u001b[38;5;28mself\u001b[39m\u001b[38;5;241m.\u001b[39m_forward_pre_hooks\n\u001b[1;32m   1518\u001b[0m         \u001b[38;5;129;01mor\u001b[39;00m _global_backward_pre_hooks \u001b[38;5;129;01mor\u001b[39;00m _global_backward_hooks\n\u001b[1;32m   1519\u001b[0m         \u001b[38;5;129;01mor\u001b[39;00m _global_forward_hooks \u001b[38;5;129;01mor\u001b[39;00m _global_forward_pre_hooks):\n\u001b[0;32m-> 1520\u001b[0m     \u001b[38;5;28;01mreturn\u001b[39;00m \u001b[43mforward_call\u001b[49m\u001b[43m(\u001b[49m\u001b[38;5;241;43m*\u001b[39;49m\u001b[43margs\u001b[49m\u001b[43m,\u001b[49m\u001b[43m \u001b[49m\u001b[38;5;241;43m*\u001b[39;49m\u001b[38;5;241;43m*\u001b[39;49m\u001b[43mkwargs\u001b[49m\u001b[43m)\u001b[49m\n\u001b[1;32m   1522\u001b[0m \u001b[38;5;28;01mtry\u001b[39;00m:\n\u001b[1;32m   1523\u001b[0m     result \u001b[38;5;241m=\u001b[39m \u001b[38;5;28;01mNone\u001b[39;00m\n",
      "Cell \u001b[0;32mIn[6], line 19\u001b[0m, in \u001b[0;36mResidual.forward\u001b[0;34m(self, X)\u001b[0m\n\u001b[1;32m     18\u001b[0m \u001b[38;5;28;01mdef\u001b[39;00m \u001b[38;5;21mforward\u001b[39m(\u001b[38;5;28mself\u001b[39m, X):\n\u001b[0;32m---> 19\u001b[0m     Y \u001b[38;5;241m=\u001b[39m F\u001b[38;5;241m.\u001b[39mrelu(\u001b[38;5;28mself\u001b[39m\u001b[38;5;241m.\u001b[39mbn1(\u001b[38;5;28;43mself\u001b[39;49m\u001b[38;5;241;43m.\u001b[39;49m\u001b[43mconv1\u001b[49m\u001b[43m(\u001b[49m\u001b[43mX\u001b[49m\u001b[43m)\u001b[49m))\n\u001b[1;32m     20\u001b[0m     Y \u001b[38;5;241m=\u001b[39m \u001b[38;5;28mself\u001b[39m\u001b[38;5;241m.\u001b[39mbn2(\u001b[38;5;28mself\u001b[39m\u001b[38;5;241m.\u001b[39mconv2(Y))\n\u001b[1;32m     21\u001b[0m     \u001b[38;5;28;01mif\u001b[39;00m \u001b[38;5;28mself\u001b[39m\u001b[38;5;241m.\u001b[39mconv3:\n",
      "File \u001b[0;32m~/.conda/envs/ml/lib/python3.12/site-packages/torch/nn/modules/module.py:1511\u001b[0m, in \u001b[0;36mModule._wrapped_call_impl\u001b[0;34m(self, *args, **kwargs)\u001b[0m\n\u001b[1;32m   1509\u001b[0m     \u001b[38;5;28;01mreturn\u001b[39;00m \u001b[38;5;28mself\u001b[39m\u001b[38;5;241m.\u001b[39m_compiled_call_impl(\u001b[38;5;241m*\u001b[39margs, \u001b[38;5;241m*\u001b[39m\u001b[38;5;241m*\u001b[39mkwargs)  \u001b[38;5;66;03m# type: ignore[misc]\u001b[39;00m\n\u001b[1;32m   1510\u001b[0m \u001b[38;5;28;01melse\u001b[39;00m:\n\u001b[0;32m-> 1511\u001b[0m     \u001b[38;5;28;01mreturn\u001b[39;00m \u001b[38;5;28;43mself\u001b[39;49m\u001b[38;5;241;43m.\u001b[39;49m\u001b[43m_call_impl\u001b[49m\u001b[43m(\u001b[49m\u001b[38;5;241;43m*\u001b[39;49m\u001b[43margs\u001b[49m\u001b[43m,\u001b[49m\u001b[43m \u001b[49m\u001b[38;5;241;43m*\u001b[39;49m\u001b[38;5;241;43m*\u001b[39;49m\u001b[43mkwargs\u001b[49m\u001b[43m)\u001b[49m\n",
      "File \u001b[0;32m~/.conda/envs/ml/lib/python3.12/site-packages/torch/nn/modules/module.py:1520\u001b[0m, in \u001b[0;36mModule._call_impl\u001b[0;34m(self, *args, **kwargs)\u001b[0m\n\u001b[1;32m   1515\u001b[0m \u001b[38;5;66;03m# If we don't have any hooks, we want to skip the rest of the logic in\u001b[39;00m\n\u001b[1;32m   1516\u001b[0m \u001b[38;5;66;03m# this function, and just call forward.\u001b[39;00m\n\u001b[1;32m   1517\u001b[0m \u001b[38;5;28;01mif\u001b[39;00m \u001b[38;5;129;01mnot\u001b[39;00m (\u001b[38;5;28mself\u001b[39m\u001b[38;5;241m.\u001b[39m_backward_hooks \u001b[38;5;129;01mor\u001b[39;00m \u001b[38;5;28mself\u001b[39m\u001b[38;5;241m.\u001b[39m_backward_pre_hooks \u001b[38;5;129;01mor\u001b[39;00m \u001b[38;5;28mself\u001b[39m\u001b[38;5;241m.\u001b[39m_forward_hooks \u001b[38;5;129;01mor\u001b[39;00m \u001b[38;5;28mself\u001b[39m\u001b[38;5;241m.\u001b[39m_forward_pre_hooks\n\u001b[1;32m   1518\u001b[0m         \u001b[38;5;129;01mor\u001b[39;00m _global_backward_pre_hooks \u001b[38;5;129;01mor\u001b[39;00m _global_backward_hooks\n\u001b[1;32m   1519\u001b[0m         \u001b[38;5;129;01mor\u001b[39;00m _global_forward_hooks \u001b[38;5;129;01mor\u001b[39;00m _global_forward_pre_hooks):\n\u001b[0;32m-> 1520\u001b[0m     \u001b[38;5;28;01mreturn\u001b[39;00m \u001b[43mforward_call\u001b[49m\u001b[43m(\u001b[49m\u001b[38;5;241;43m*\u001b[39;49m\u001b[43margs\u001b[49m\u001b[43m,\u001b[49m\u001b[43m \u001b[49m\u001b[38;5;241;43m*\u001b[39;49m\u001b[38;5;241;43m*\u001b[39;49m\u001b[43mkwargs\u001b[49m\u001b[43m)\u001b[49m\n\u001b[1;32m   1522\u001b[0m \u001b[38;5;28;01mtry\u001b[39;00m:\n\u001b[1;32m   1523\u001b[0m     result \u001b[38;5;241m=\u001b[39m \u001b[38;5;28;01mNone\u001b[39;00m\n",
      "File \u001b[0;32m~/.conda/envs/ml/lib/python3.12/site-packages/torch/nn/modules/conv.py:460\u001b[0m, in \u001b[0;36mConv2d.forward\u001b[0;34m(self, input)\u001b[0m\n\u001b[1;32m    459\u001b[0m \u001b[38;5;28;01mdef\u001b[39;00m \u001b[38;5;21mforward\u001b[39m(\u001b[38;5;28mself\u001b[39m, \u001b[38;5;28minput\u001b[39m: Tensor) \u001b[38;5;241m-\u001b[39m\u001b[38;5;241m>\u001b[39m Tensor:\n\u001b[0;32m--> 460\u001b[0m     \u001b[38;5;28;01mreturn\u001b[39;00m \u001b[38;5;28;43mself\u001b[39;49m\u001b[38;5;241;43m.\u001b[39;49m\u001b[43m_conv_forward\u001b[49m\u001b[43m(\u001b[49m\u001b[38;5;28;43minput\u001b[39;49m\u001b[43m,\u001b[49m\u001b[43m \u001b[49m\u001b[38;5;28;43mself\u001b[39;49m\u001b[38;5;241;43m.\u001b[39;49m\u001b[43mweight\u001b[49m\u001b[43m,\u001b[49m\u001b[43m \u001b[49m\u001b[38;5;28;43mself\u001b[39;49m\u001b[38;5;241;43m.\u001b[39;49m\u001b[43mbias\u001b[49m\u001b[43m)\u001b[49m\n",
      "File \u001b[0;32m~/.conda/envs/ml/lib/python3.12/site-packages/torch/nn/modules/conv.py:456\u001b[0m, in \u001b[0;36mConv2d._conv_forward\u001b[0;34m(self, input, weight, bias)\u001b[0m\n\u001b[1;32m    452\u001b[0m \u001b[38;5;28;01mif\u001b[39;00m \u001b[38;5;28mself\u001b[39m\u001b[38;5;241m.\u001b[39mpadding_mode \u001b[38;5;241m!=\u001b[39m \u001b[38;5;124m'\u001b[39m\u001b[38;5;124mzeros\u001b[39m\u001b[38;5;124m'\u001b[39m:\n\u001b[1;32m    453\u001b[0m     \u001b[38;5;28;01mreturn\u001b[39;00m F\u001b[38;5;241m.\u001b[39mconv2d(F\u001b[38;5;241m.\u001b[39mpad(\u001b[38;5;28minput\u001b[39m, \u001b[38;5;28mself\u001b[39m\u001b[38;5;241m.\u001b[39m_reversed_padding_repeated_twice, mode\u001b[38;5;241m=\u001b[39m\u001b[38;5;28mself\u001b[39m\u001b[38;5;241m.\u001b[39mpadding_mode),\n\u001b[1;32m    454\u001b[0m                     weight, bias, \u001b[38;5;28mself\u001b[39m\u001b[38;5;241m.\u001b[39mstride,\n\u001b[1;32m    455\u001b[0m                     _pair(\u001b[38;5;241m0\u001b[39m), \u001b[38;5;28mself\u001b[39m\u001b[38;5;241m.\u001b[39mdilation, \u001b[38;5;28mself\u001b[39m\u001b[38;5;241m.\u001b[39mgroups)\n\u001b[0;32m--> 456\u001b[0m \u001b[38;5;28;01mreturn\u001b[39;00m \u001b[43mF\u001b[49m\u001b[38;5;241;43m.\u001b[39;49m\u001b[43mconv2d\u001b[49m\u001b[43m(\u001b[49m\u001b[38;5;28;43minput\u001b[39;49m\u001b[43m,\u001b[49m\u001b[43m \u001b[49m\u001b[43mweight\u001b[49m\u001b[43m,\u001b[49m\u001b[43m \u001b[49m\u001b[43mbias\u001b[49m\u001b[43m,\u001b[49m\u001b[43m \u001b[49m\u001b[38;5;28;43mself\u001b[39;49m\u001b[38;5;241;43m.\u001b[39;49m\u001b[43mstride\u001b[49m\u001b[43m,\u001b[49m\n\u001b[1;32m    457\u001b[0m \u001b[43m                \u001b[49m\u001b[38;5;28;43mself\u001b[39;49m\u001b[38;5;241;43m.\u001b[39;49m\u001b[43mpadding\u001b[49m\u001b[43m,\u001b[49m\u001b[43m \u001b[49m\u001b[38;5;28;43mself\u001b[39;49m\u001b[38;5;241;43m.\u001b[39;49m\u001b[43mdilation\u001b[49m\u001b[43m,\u001b[49m\u001b[43m \u001b[49m\u001b[38;5;28;43mself\u001b[39;49m\u001b[38;5;241;43m.\u001b[39;49m\u001b[43mgroups\u001b[49m\u001b[43m)\u001b[49m\n",
      "\u001b[0;31mKeyboardInterrupt\u001b[0m: "
     ]
    }
   ],
   "source": [
    "import pandas as pd\n",
    "test_labels = []\n",
    "i = 0\n",
    "\n",
    "for i in range(len(test_dataset)):\n",
    "    test_data = test_dataset.__getitem__(i )\n",
    "    test_data = test_data.unsqueeze(0)\n",
    "    test_data = togpu(test_data)\n",
    "    net = togpu(net)\n",
    "    net.eval()\n",
    "    output = net(test_data)\n",
    "    predictions = output.argmax(dim=1)\n",
    "    test_labels.append(predictions.cpu().numpy())\n",
    "\n",
    "# Convert the list of numpy arrays to a single numpy array\n",
    "test_labels = np.concatenate(test_labels)\n",
    "\n",
    "# Now you can call encoder.inverse_transform\n",
    "test_labels = encoder.inverse_transform(test_labels)\n",
    "\n",
    "test_df = pd.read_csv('test.csv')\n",
    "\n",
    "test_df['label'] = test_labels\n",
    "\n",
    "test_df.to_csv('/kaggle/working/submission.csv', index=False)\n",
    "print(\"################################\")"
   ]
  },
  {
   "cell_type": "code",
   "execution_count": null,
   "id": "a03c1388",
   "metadata": {
    "papermill": {
     "duration": 0.034481,
     "end_time": "2024-03-01T14:09:16.624873",
     "exception": false,
     "start_time": "2024-03-01T14:09:16.590392",
     "status": "completed"
    },
    "tags": []
   },
   "outputs": [],
   "source": []
  }
 ],
 "metadata": {
  "kaggle": {
   "accelerator": "nvidiaTeslaT4",
   "dataSources": [
    {
     "databundleVersionId": 2318453,
     "sourceId": 29193,
     "sourceType": "competition"
    }
   ],
   "dockerImageVersionId": 30648,
   "isGpuEnabled": true,
   "isInternetEnabled": true,
   "language": "python",
   "sourceType": "notebook"
  },
  "kernelspec": {
   "display_name": "Python 3",
   "language": "python",
   "name": "python3"
  },
  "language_info": {
   "codemirror_mode": {
    "name": "ipython",
    "version": 3
   },
   "file_extension": ".py",
   "mimetype": "text/x-python",
   "name": "python",
   "nbconvert_exporter": "python",
   "pygments_lexer": "ipython3",
   "version": "3.12.1"
  },
  "papermill": {
   "default_parameters": {},
   "duration": 2180.38825,
   "end_time": "2024-03-01T14:09:19.122131",
   "environment_variables": {},
   "exception": null,
   "input_path": "__notebook__.ipynb",
   "output_path": "__notebook__.ipynb",
   "parameters": {},
   "start_time": "2024-03-01T13:32:58.733881",
   "version": "2.5.0"
  }
 },
 "nbformat": 4,
 "nbformat_minor": 5
}
